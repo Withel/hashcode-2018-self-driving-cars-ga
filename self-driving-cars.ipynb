{
 "cells": [
  {
   "cell_type": "markdown",
   "id": "81678061",
   "metadata": {},
   "source": [
    "# Solution to google hashcode challange 2018\n",
    "\n",
    "https://storage.googleapis.com/coding-competitions.appspot.com/HC/2018/hashcode2018_qualification_task.pdf\n",
    "\n",
    "## Task\n",
    "Given a list of pre-booked rides in a city and a fleet of self-driving vehicles, assign the rides to vehicles, so\n",
    "that riders get to their destinations on time.\n",
    "\n",
    "\n",
    "For every ride that finishes on time (or early), you will earn points proportional to the distance of that ride;\n",
    "plus an additional bonus if the ride also started precisely on time.\n"
   ]
  },
  {
   "cell_type": "markdown",
   "id": "64349fe0",
   "metadata": {},
   "source": [
    "The first line of the input file contains the following integer numbers separated by single spaces:<br>\n",
    "● R – number of rows of the grid (1 ≤ R ≤ 10000)<br>\n",
    "● C – number of columns of the grid (1 ≤ C ≤ 10000)<br>\n",
    "● F – number of vehicles in the fleet (1 ≤ F ≤ 1000)<br>\n",
    "● N – number of rides (1 ≤ N ≤ 10000)<br>\n",
    "● B – per-ride bonus for starting the ride on time (1 ≤ B ≤ 10000)<br>\n",
    "● T – number of steps in the simulation (1 ≤ T ≤ 10 )<br>\n",
    "<br>\n",
    "N subsequent lines of the input file describe the individual rides, from ride 0 to ride N − 1 . Each line<br>\n",
    "contains the following integer numbers separated by single spaces:<br>\n",
    "● a – the row of the start intersection (0 ≤ a < R)<br>\n",
    "● b – the column of the start intersection (0 ≤ b < C)<br>\n",
    "● x – the row of the finish intersection (0 ≤ x < R)<br>\n",
    "● y – the column of the finish intersection (0 ≤ y < C)<br>\n",
    "● s – the earliest start(0 ≤ s < T)<br>\n",
    "● f – the latest finish (0 ≤ f ≤ T) , (f ≥ s + |x − a| + |y − b|)<br>\n",
    "○ note that f can be equal to T – this makes the latest finish equal to the end of the simulation<br>"
   ]
  },
  {
   "cell_type": "markdown",
   "id": "2879b4ad",
   "metadata": {},
   "source": [
    "For example file can look like this:<br>\n",
    "3 4 2 3 2 10 3 rows, 4 columns, 2 vehicles, 3 rides, 2 bonus and 10 steps<br>\n",
    "0 0 1 3 2 9 ride from [0, 0] to [1, 3], earliest start 2, latest finish 9<br>\n",
    "1 2 1 0 0 9 ride from [1, 2] to [1, 0], earliest start 0, latest finish 9<br>\n",
    "2 0 2 2 0 9 ride from [2, 0] to [2, 2], earliest start 0, latest finish 9<br>\n",
    "\n",
    "\n",
    "\n",
    "\n"
   ]
  },
  {
   "cell_type": "code",
   "execution_count": 1,
   "id": "d829ae53",
   "metadata": {},
   "outputs": [],
   "source": [
    "# imports\n",
    "import random\n",
    "import numpy as np\n",
    "from copy import deepcopy\n",
    "\n",
    "import matplotlib.pyplot as plt\n",
    "\n",
    "from deap import base, creator\n",
    "from deap import tools\n",
    "from deap import algorithms"
   ]
  },
  {
   "cell_type": "code",
   "execution_count": 2,
   "id": "5366902e",
   "metadata": {
    "scrolled": true
   },
   "outputs": [],
   "source": [
    "# Reading from file \n",
    "\n",
    "file = open(\"./files/b_should_be_easy.in\", \"r\")\n",
    "\n",
    "data = np.loadtxt(file, delimiter=\" \", dtype=np.int32).tolist()\n",
    "# print(data)\n",
    "\n",
    "\n",
    "# Remove first row of list so only rides are left\n",
    "rides = []\n",
    "\n",
    "for i in range(1, len(data), 1):\n",
    "    rides.append(data[i])\n",
    "\n",
    "# print(rides)\n",
    "# type(rides)"
   ]
  },
  {
   "cell_type": "code",
   "execution_count": 3,
   "id": "22bc3ca9",
   "metadata": {},
   "outputs": [
    {
     "name": "stdout",
     "output_type": "stream",
     "text": [
      "100\n",
      "300\n"
     ]
    }
   ],
   "source": [
    "# Assigning variables\n",
    "city_x = data[0][0]\n",
    "city_y = data[0][1]\n",
    "number_of_cars = data[0][2]\n",
    "number_of_rides = data[0][3]\n",
    "bonus = data[0][4]\n",
    "steps = data[0][5]\n",
    "\n",
    "print(number_of_cars)\n",
    "print(number_of_rides)"
   ]
  },
  {
   "cell_type": "code",
   "execution_count": 4,
   "id": "157b50ad",
   "metadata": {},
   "outputs": [],
   "source": [
    "# Creating object for storing configurations\n",
    "toolbox = base.Toolbox()"
   ]
  },
  {
   "cell_type": "code",
   "execution_count": 5,
   "id": "5fcdb2f4",
   "metadata": {},
   "outputs": [],
   "source": [
    "# Configuring fitness and individual\n",
    "creator.create(\"FitnessMax\", base.Fitness, weights=(1.0,))\n",
    "creator.create(\"Individual\", list, fitness=creator.FitnessMax)"
   ]
  },
  {
   "cell_type": "markdown",
   "id": "6630ab48",
   "metadata": {},
   "source": [
    "1. Each individual has a lenght of number of rides\n",
    "2. To each ride has assigned a car "
   ]
  },
  {
   "cell_type": "code",
   "execution_count": 6,
   "id": "889c0dcc",
   "metadata": {},
   "outputs": [],
   "source": [
    "toolbox.register(\"attribute\", random.randint, 0, number_of_cars-1)\n",
    "# Number of attributes is equal to number of rides \n",
    "toolbox.register(\"individual\", tools.initRepeat, creator.Individual, toolbox.attribute, n=number_of_rides)\n",
    "toolbox.register(\"population\", tools.initRepeat, list, toolbox.individual) "
   ]
  },
  {
   "cell_type": "code",
   "execution_count": 7,
   "id": "0a1780b4",
   "metadata": {},
   "outputs": [],
   "source": [
    "# This is only for checking if that works\n",
    "# A single individual is generated\n",
    "ind = toolbox.individual()\n",
    "# print(\"Individual: \", ind)\n",
    "\n",
    "# The population is initialised. It will have a total of X individuals. It is generated as a list of individuals.\n",
    "pop = toolbox.population(n=5)\n",
    "\n",
    "# The population is printed: 10 individuals of 5 genes each\n",
    "# print(\"Population: \",pop)"
   ]
  },
  {
   "cell_type": "markdown",
   "id": "c9713036",
   "metadata": {},
   "source": [
    "### Fitness Function\n",
    "\n"
   ]
  },
  {
   "cell_type": "markdown",
   "id": "089df91c",
   "metadata": {},
   "source": [
    "#### Manhattan Distance\n",
    "\n",
    "https://machinelearningmastery.com/distance-measures-for-machine-learning/\n",
    "\n",
    "The Manhattan distance, also called the Taxicab distance or the City Block distance, calculates the distance between two real-valued vectors.\n",
    "\n",
    "Manhattan distance is calculated as the sum of the absolute differences between the two vectors:\n",
    " - ManhattanDistance = sum for i to N sum |v1[i] – v2[i]|"
   ]
  },
  {
   "cell_type": "code",
   "execution_count": 8,
   "id": "1114a9b8",
   "metadata": {},
   "outputs": [],
   "source": [
    "def manhattan_distance(a, b):\n",
    "    return sum(abs(e1-e2) for e1, e2 in zip(a,b))"
   ]
  },
  {
   "cell_type": "code",
   "execution_count": 9,
   "id": "2ec41da5",
   "metadata": {},
   "outputs": [],
   "source": [
    "# FOR LATER\n",
    "\n",
    "class Car:\n",
    "    def __init__(self):\n",
    "        self.x = 0\n",
    "        self.y = 0\n",
    "        self.step = 0\n",
    "        self.value = 0"
   ]
  },
  {
   "cell_type": "code",
   "execution_count": 10,
   "id": "d7bd5a82",
   "metadata": {},
   "outputs": [],
   "source": [
    "# # FOR LATER\n",
    "class Ride:\n",
    "    def __init__(self):\n",
    "        self.x = 0"
   ]
  },
  {
   "cell_type": "code",
   "execution_count": 11,
   "id": "b9ca95b6",
   "metadata": {},
   "outputs": [],
   "source": [
    "# # initialisation of the cars\n",
    "# cars = []\n",
    "# for i in range(0, number_of_cars, 1):\n",
    "#     cars.append([0] * 4)  "
   ]
  },
  {
   "cell_type": "markdown",
   "id": "ac1ebd24",
   "metadata": {},
   "source": [
    "3 4 2 3 2 10 3 rows, 4 columns, 2 vehicles, 3 rides, 2 bonus and 10 steps<br>\n",
    "0 0 1 3 2 9 ride from [0, 0] to [1, 3], earliest start 2, latest finish 9"
   ]
  },
  {
   "cell_type": "code",
   "execution_count": 12,
   "id": "5530bb00",
   "metadata": {},
   "outputs": [],
   "source": [
    "def fitness(ind):\n",
    "#     print(\"=======start=======\")\n",
    "# ind = [0, 1, 2]\n",
    "    \n",
    "    # initialize cars\n",
    "    # Car definition: [X, Y, Step, Value] \n",
    "    cars = []\n",
    "    for i in range(0, number_of_cars, 1):\n",
    "        cars.append([0] * 4)   \n",
    "\n",
    "#     print(cars)\n",
    "    # keeps track of what ride are we \n",
    "    counter = 0\n",
    "\n",
    "    for ride in rides:\n",
    "#         print(ride)\n",
    "#         print(ind)\n",
    "        # choosing car for a ride from individual\n",
    "    \n",
    "        car = cars[ind[counter]]\n",
    "#         print(ind[counter])\n",
    "\n",
    "        # position of the car\n",
    "        car_pos = [car[0], car[1]]\n",
    "#         print(\"car_pos=\", car_pos)\n",
    "\n",
    "        # starting position of ride\n",
    "        cord_start = [ride[0], ride[1]]\n",
    "#         print(\"cord_start=\", cord_start)\n",
    "\n",
    "        # ending position of ride\n",
    "        cord_end = [ride[2], ride[3]]\n",
    "#         print(\"cord_end=\", cord_end)\n",
    "\n",
    "        # calculate distance between car and starting position\n",
    "        dist_to_start = manhattan_distance(car_pos, cord_start)\n",
    "#         print(\"dist_to_start=\", dist_to_start)\n",
    "\n",
    "        # adding distance needed to go to starting point to steps\n",
    "        car[2] += dist_to_start\n",
    "\n",
    "        # if car is on time or earlier add bonus\n",
    "        if(car[2] <= ride[4]):\n",
    "            car[3] += bonus\n",
    "\n",
    "        # if car is earlier set to starting time\n",
    "        if(car[2] < ride[4]):\n",
    "#             print(\"car wait for step: \", ride[4])\n",
    "            car[2] = ride[4]\n",
    "\n",
    "        # calculate distance between starting point of the trip and \n",
    "        dist_trip = manhattan_distance(cord_start, cord_end)\n",
    "#         print(\"dist_trip=\", dist_trip)\n",
    "\n",
    "        # add distance of the trip to steps\n",
    "        car[2] += dist_trip\n",
    "\n",
    "        # if steps needed to complete ride are less or equal to \n",
    "        # finish of ride add points\n",
    "#         print(\"car accomplised ride in step: \", car[2])\n",
    "#         print(\"ride was supose to end: \", ride[5])\n",
    "        if(ride[5] > car[2]):\n",
    "#             print(\"success\")\n",
    "            car[3] += dist_trip\n",
    "\n",
    "        # set coordinates of the ending to the actual position\n",
    "        # of the car\n",
    "        car[0] = cord_end[0]\n",
    "        car[1] = cord_end[1]\n",
    "\n",
    "        cars[ind[counter]] = car\n",
    "#         print(car)\n",
    "        counter += 1\n",
    "#         print(\"===CARS===\")\n",
    "#         print(cars)\n",
    "#         print(\"==================\")\n",
    "    \n",
    "    value = 0\n",
    "    for car in cars:\n",
    "        value += car[3]\n",
    "#     print(\"value=\", value)\n",
    "#     print(cars)\n",
    "    return (value, )\n"
   ]
  },
  {
   "cell_type": "code",
   "execution_count": 13,
   "id": "f3ad076d",
   "metadata": {},
   "outputs": [],
   "source": [
    "# fitness([0, 1, 1, 0])"
   ]
  },
  {
   "cell_type": "markdown",
   "id": "b53057d9",
   "metadata": {},
   "source": [
    "### Configure Genetic algorithms parameters"
   ]
  },
  {
   "cell_type": "code",
   "execution_count": 14,
   "id": "5b18319f",
   "metadata": {},
   "outputs": [],
   "source": [
    "# we can experiment with different parameters \n",
    "toolbox.register(\"select\", tools.selTournament, tournsize=3) # selections\n",
    "toolbox.register(\"mate\", tools.cxOnePoint)                   # crossing\n",
    "toolbox.register(\"mutate\", tools.mutUniformInt, low=0, up=number_of_cars-1, indpb=0.2)      # mutation\n",
    "\n",
    "# define how each individual will be evaluated\n",
    "# fitness function defined above will be used \n",
    "toolbox.register(\"evaluate\", fitness)"
   ]
  },
  {
   "cell_type": "markdown",
   "id": "75265bcb",
   "metadata": {},
   "source": [
    "### Statistic configuration "
   ]
  },
  {
   "cell_type": "code",
   "execution_count": 15,
   "id": "98703e20",
   "metadata": {},
   "outputs": [],
   "source": [
    "stats = tools.Statistics(lambda ind: ind.fitness.values) \n",
    "stats.register(\"avg\", np.mean) \n",
    "stats.register(\"std\", np.std) \n",
    "stats.register(\"min\", np.min) \n",
    "stats.register(\"max\", np.max) "
   ]
  },
  {
   "cell_type": "markdown",
   "id": "dda6d92c",
   "metadata": {},
   "source": [
    "### Execution of the Algorithm"
   ]
  },
  {
   "cell_type": "code",
   "execution_count": 16,
   "id": "836becc3",
   "metadata": {},
   "outputs": [
    {
     "name": "stdout",
     "output_type": "stream",
     "text": [
      "Results: \n",
      "gen\tnevals\tavg    \tstd    \tmin   \tmax   \n",
      "0  \t30    \t94597.8\t4239.19\t84665 \t103363\n",
      "1  \t24    \t96892.9\t3770.99\t86716 \t103363\n",
      "2  \t28    \t97597.7\t4159.72\t88110 \t104480\n",
      "3  \t23    \t100165 \t3382.02\t90922 \t104614\n",
      "4  \t22    \t99529  \t5232.1 \t84957 \t105437\n",
      "5  \t24    \t100580 \t4575.21\t88695 \t107101\n",
      "6  \t25    \t101093 \t5298.91\t87091 \t107838\n",
      "7  \t20    \t104184 \t3247.88\t95379 \t108982\n",
      "8  \t29    \t104680 \t3252.25\t97791 \t107838\n",
      "9  \t23    \t106774 \t2319.07\t96720 \t110298\n",
      "10 \t28    \t106977 \t2201.23\t100686\t110298\n",
      "11 \t24    \t106291 \t3174.78\t97775 \t110298\n",
      "12 \t24    \t106761 \t3720.52\t93566 \t111730\n",
      "13 \t21    \t106853 \t3677.01\t98461 \t111544\n",
      "14 \t21    \t108689 \t2253.34\t102787\t114067\n",
      "15 \t16    \t108857 \t2663.34\t101285\t112334\n",
      "16 \t19    \t109711 \t3210.91\t95787 \t114656\n",
      "17 \t29    \t109110 \t4060.49\t99587 \t114212\n",
      "18 \t26    \t111237 \t3304.18\t100987\t114212\n",
      "19 \t27    \t112006 \t3275.1 \t102025\t114212\n",
      "20 \t26    \t112376 \t3154.95\t103729\t114681\n",
      "Best Solution: \n",
      "[32, 30, 52, 82, 19, 49, 22, 87, 95, 14, 65, 61, 34, 59, 61, 58, 10, 85, 56, 32, 12, 83, 8, 13, 97, 73, 96, 45, 80, 39, 50, 26, 5, 97, 96, 21, 60, 53, 52, 92, 69, 98, 94, 78, 1, 90, 56, 13, 53, 6, 91, 69, 47, 78, 19, 44, 16, 31, 53, 28, 59, 78, 23, 50, 10, 38, 11, 18, 84, 75, 1, 6, 93, 58, 88, 62, 35, 47, 80, 12, 78, 80, 42, 71, 65, 95, 52, 48, 83, 28, 45, 54, 67, 84, 61, 76, 60, 48, 35, 74, 51, 20, 26, 49, 24, 56, 53, 36, 77, 84, 76, 51, 49, 9, 48, 71, 3, 78, 7, 3, 38, 63, 34, 27, 91, 25, 9, 76, 5, 89, 62, 83, 15, 44, 66, 87, 70, 66, 29, 46, 58, 86, 50, 35, 77, 14, 90, 25, 72, 86, 14, 75, 16, 16, 52, 31, 62, 40, 53, 31, 92, 16, 40, 85, 23, 9, 21, 87, 20, 85, 95, 41, 78, 1, 67, 69, 30, 37, 72, 0, 99, 48, 92, 71, 86, 66, 7, 53, 96, 13, 67, 5, 71, 92, 81, 24, 60, 90, 24, 69, 44, 37, 87, 56, 55, 74, 26, 38, 24, 29, 25, 86, 61, 43, 36, 14, 62, 25, 0, 63, 89, 61, 41, 16, 0, 1, 6, 69, 46, 21, 8, 77, 53, 44, 60, 18, 27, 55, 45, 74, 63, 36, 2, 5, 55, 35, 57, 30, 80, 98, 99, 67, 27, 65, 6, 25, 10, 91, 7, 61, 88, 33, 11, 52, 96, 40, 7, 34, 97, 66, 91, 19, 73, 76, 72, 19, 33, 98, 77, 82, 46, 52, 74, 38, 64, 70, 40, 22, 68, 66, 20, 57, 31, 2, 7, 42, 40, 28, 59, 39]\n"
     ]
    }
   ],
   "source": [
    "# The population is initialised with X individuals.\n",
    "population = toolbox.population(n=30)\n",
    "# print(population)\n",
    "\n",
    "# The algorithm that allows the evolution of the solutions is called\n",
    "population, logbook = algorithms.eaSimple(population, toolbox, \n",
    "                                    cxpb=0.7, mutpb=0.2, # Probabilidades de cruce y mutacion\n",
    "                                    ngen=20, verbose=False, stats=stats) # Numero de generaciones a completar y estadisticas a recoger\n",
    "\n",
    "# For each generation, the logbook structure stores a summary of the algorithm's progress.\n",
    "print(\"Results: \")\n",
    "print(logbook)\n",
    "\n",
    "print(\"Best Solution: \")\n",
    "print(tools.selBest(population,1)[0])"
   ]
  },
  {
   "cell_type": "code",
   "execution_count": 17,
   "id": "49a14a82",
   "metadata": {
    "scrolled": true
   },
   "outputs": [
    {
     "data": {
      "text/plain": [
       "[]"
      ]
     },
     "execution_count": 17,
     "metadata": {},
     "output_type": "execute_result"
    },
    {
     "data": {
      "image/png": "[encoded data removed]",
      "text/plain": [
       "<Figure size 432x288 with 1 Axes>"
      ]
     },
     "metadata": {
      "needs_background": "light"
     },
     "output_type": "display_data"
    }
   ],
   "source": [
    "# The data is retrieved from the log\n",
    "gen = logbook.select(\"gen\")\n",
    "avgs = logbook.select(\"avg\")\n",
    "mins = logbook.select(\"min\") \n",
    "maxes = logbook.select(\"max\") \n",
    "\n",
    "# A figure is set to draw\n",
    "fig = plt.figure()\n",
    "    \n",
    "# The average of the fitness value for each generation is represented\n",
    "ax1 = plt.gca()\n",
    "line1 = ax1.plot(gen, avgs, \"r-\", label=\"Average Fitness\")    \n",
    "ax1.set_xlabel(\"Generation\")\n",
    "ax1.set_ylabel(\"Fitness\", color=\"b\")\n",
    "\n",
    "plt.plot()"
   ]
  },
  {
   "cell_type": "code",
   "execution_count": null,
   "id": "5d6bc273",
   "metadata": {},
   "outputs": [],
   "source": []
  }
 ],
 "metadata": {
  "kernelspec": {
   "display_name": "Python 3",
   "language": "python",
   "name": "python3"
  },
  "language_info": {
   "codemirror_mode": {
    "name": "ipython",
    "version": 3
   },
   "file_extension": ".py",
   "mimetype": "text/x-python",
   "name": "python",
   "nbconvert_exporter": "python",
   "pygments_lexer": "ipython3",
   "version": "3.8.8"
  }
 },
 "nbformat": 4,
 "nbformat_minor": 5
}
