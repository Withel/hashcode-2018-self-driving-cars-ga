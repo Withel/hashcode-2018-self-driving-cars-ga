{
 "cells": [
  {
   "cell_type": "markdown",
   "id": "81d57eb7",
   "metadata": {},
   "source": [
    "# Solution to google hashcode challange 2018\n",
    "\n",
    "https://storage.googleapis.com/coding-competitions.appspot.com/HC/2018/hashcode2018_qualification_task.pdf\n",
    "\n",
    "## Task\n",
    "Given a list of pre-booked rides in a city and a fleet of self-driving vehicles, assign the rides to vehicles, so\n",
    "that riders get to their destinations on time.\n",
    "\n",
    "\n",
    "For every ride that finishes on time (or early), you will earn points proportional to the distance of that ride;\n",
    "plus an additional bonus if the ride also started precisely on time.\n"
   ]
  },
  {
   "cell_type": "markdown",
   "id": "d4003dbc",
   "metadata": {},
   "source": [
    "The first line of the input file contains the following integer numbers separated by single spaces:<br>\n",
    "● R – number of rows of the grid (1 ≤ R ≤ 10000)<br>\n",
    "● C – number of columns of the grid (1 ≤ C ≤ 10000)<br>\n",
    "● F – number of vehicles in the fleet (1 ≤ F ≤ 1000)<br>\n",
    "● N – number of rides (1 ≤ N ≤ 10000)<br>\n",
    "● B – per-ride bonus for starting the ride on time (1 ≤ B ≤ 10000)<br>\n",
    "● T – number of steps in the simulation (1 ≤ T ≤ 10 )<br>\n",
    "<br>\n",
    "N subsequent lines of the input file describe the individual rides, from ride 0 to ride N − 1 . Each line<br>\n",
    "contains the following integer numbers separated by single spaces:<br>\n",
    "● a – the row of the start intersection (0 ≤ a < R)<br>\n",
    "● b – the column of the start intersection (0 ≤ b < C)<br>\n",
    "● x – the row of the finish intersection (0 ≤ x < R)<br>\n",
    "● y – the column of the finish intersection (0 ≤ y < C)<br>\n",
    "● s – the earliest start(0 ≤ s < T)<br>\n",
    "● f – the latest finish (0 ≤ f ≤ T) , (f ≥ s + |x − a| + |y − b|)<br>\n",
    "○ note that f can be equal to T – this makes the latest finish equal to the end of the simulation<br>"
   ]
  },
  {
   "cell_type": "markdown",
   "id": "4289f38c",
   "metadata": {},
   "source": [
    "For example file can look like this:<br>\n",
    "3 4 2 3 2 10 3 rows, 4 columns, 2 vehicles, 3 rides, 2 bonus and 10 steps<br>\n",
    "0 0 1 3 2 9 ride from [0, 0] to [1, 3], earliest start 2, latest finish 9<br>\n",
    "1 2 1 0 0 9 ride from [1, 2] to [1, 0], earliest start 0, latest finish 9<br>\n",
    "2 0 2 2 0 9 ride from [2, 0] to [2, 2], earliest start 0, latest finish 9<br>\n",
    "\n",
    "\n",
    "\n",
    "\n"
   ]
  },
  {
   "cell_type": "code",
   "execution_count": 1,
   "id": "6d42d783",
   "metadata": {},
   "outputs": [],
   "source": [
    "# imports\n",
    "import random\n",
    "import numpy as np\n",
    "from copy import deepcopy\n",
    "\n",
    "import matplotlib.pyplot as plt\n",
    "\n",
    "from deap import base, creator\n",
    "from deap import tools\n",
    "from deap import algorithms"
   ]
  },
  {
   "cell_type": "code",
   "execution_count": 2,
   "id": "d2b50508",
   "metadata": {
    "scrolled": true
   },
   "outputs": [],
   "source": [
    "# Reading from file \n",
    "\n",
    "file = open(\"./files/b_should_be_easy.in\", \"r\")\n",
    "\n",
    "data = np.loadtxt(file, delimiter=\" \", dtype=np.int32).tolist()\n",
    "# print(data)\n",
    "\n",
    "\n",
    "# Remove first row of list so only rides are left\n",
    "rides = []\n",
    "\n",
    "for i in range(1, len(data), 1):\n",
    "    rides.append(data[i])\n",
    "\n",
    "# print(rides)\n",
    "# type(rides)"
   ]
  },
  {
   "cell_type": "code",
   "execution_count": 3,
   "id": "f580a9fa",
   "metadata": {},
   "outputs": [
    {
     "name": "stdout",
     "output_type": "stream",
     "text": [
      "100\n",
      "300\n"
     ]
    }
   ],
   "source": [
    "# Assigning variables\n",
    "city_x = data[0][0]\n",
    "city_y = data[0][1]\n",
    "number_of_cars = data[0][2]\n",
    "number_of_rides = data[0][3]\n",
    "bonus = data[0][4]\n",
    "steps = data[0][5]\n",
    "\n",
    "print(number_of_cars)\n",
    "print(number_of_rides)"
   ]
  },
  {
   "cell_type": "code",
   "execution_count": 4,
   "id": "2b81f2f2",
   "metadata": {},
   "outputs": [],
   "source": [
    "# Creating object for storing configurations\n",
    "toolbox = base.Toolbox()"
   ]
  },
  {
   "cell_type": "code",
   "execution_count": 5,
   "id": "b53e7720",
   "metadata": {},
   "outputs": [],
   "source": [
    "# Configuring fitness and individual\n",
    "creator.create(\"FitnessMax\", base.Fitness, weights=(1.0,))\n",
    "creator.create(\"Individual\", list, fitness=creator.FitnessMax)"
   ]
  },
  {
   "cell_type": "markdown",
   "id": "54cc57a4",
   "metadata": {},
   "source": [
    "1. Each individual has a lenght of number of rides\n",
    "2. To each ride has assigned a car "
   ]
  },
  {
   "cell_type": "code",
   "execution_count": 6,
   "id": "3d8ee5b8",
   "metadata": {},
   "outputs": [],
   "source": [
    "toolbox.register(\"attribute\", random.randint, 0, number_of_cars-1)\n",
    "# Number of attributes is equal to number of rides \n",
    "toolbox.register(\"individual\", tools.initRepeat, creator.Individual, toolbox.attribute, n=number_of_rides)\n",
    "toolbox.register(\"population\", tools.initRepeat, list, toolbox.individual) "
   ]
  },
  {
   "cell_type": "code",
   "execution_count": 7,
   "id": "0d093749",
   "metadata": {},
   "outputs": [],
   "source": [
    "# This is only for checking if that works\n",
    "# A single individual is generated\n",
    "ind = toolbox.individual()\n",
    "# print(\"Individual: \", ind)\n",
    "\n",
    "# The population is initialised. It will have a total of X individuals. It is generated as a list of individuals.\n",
    "pop = toolbox.population(n=5)\n",
    "\n",
    "# The population is printed: 10 individuals of 5 genes each\n",
    "# print(\"Population: \",pop)"
   ]
  },
  {
   "cell_type": "markdown",
   "id": "ca99665f",
   "metadata": {},
   "source": [
    "### Fitness Function\n",
    "\n"
   ]
  },
  {
   "cell_type": "markdown",
   "id": "3498d062",
   "metadata": {},
   "source": [
    "#### Manhattan Distance\n",
    "\n",
    "https://machinelearningmastery.com/distance-measures-for-machine-learning/\n",
    "\n",
    "The Manhattan distance, also called the Taxicab distance or the City Block distance, calculates the distance between two real-valued vectors.\n",
    "\n",
    "Manhattan distance is calculated as the sum of the absolute differences between the two vectors:\n",
    " - ManhattanDistance = sum for i to N sum |v1[i] – v2[i]|"
   ]
  },
  {
   "cell_type": "code",
   "execution_count": 8,
   "id": "2b6a2719",
   "metadata": {},
   "outputs": [],
   "source": [
    "def manhattan_distance(a, b):\n",
    "    return sum(abs(e1-e2) for e1, e2 in zip(a,b))"
   ]
  },
  {
   "cell_type": "code",
   "execution_count": 9,
   "id": "8e5684cc",
   "metadata": {},
   "outputs": [],
   "source": [
    "# FOR LATER\n",
    "\n",
    "class Car:\n",
    "    def __init__(self):\n",
    "        self.x = 0\n",
    "        self.y = 0\n",
    "        self.step = 0\n",
    "        self.value = 0"
   ]
  },
  {
   "cell_type": "code",
   "execution_count": 10,
   "id": "5c06f95d",
   "metadata": {},
   "outputs": [],
   "source": [
    "# # FOR LATER\n",
    "class Ride:\n",
    "    def __init__(self):\n",
    "        self.x = 0"
   ]
  },
  {
   "cell_type": "code",
   "execution_count": 11,
   "id": "c3822356",
   "metadata": {},
   "outputs": [],
   "source": [
    "# # initialisation of the cars\n",
    "# cars = []\n",
    "# for i in range(0, number_of_cars, 1):\n",
    "#     cars.append([0] * 4)  "
   ]
  },
  {
   "cell_type": "markdown",
   "id": "71a44f4a",
   "metadata": {},
   "source": [
    "3 4 2 3 2 10 3 rows, 4 columns, 2 vehicles, 3 rides, 2 bonus and 10 steps<br>\n",
    "0 0 1 3 2 9 ride from [0, 0] to [1, 3], earliest start 2, latest finish 9"
   ]
  },
  {
   "cell_type": "code",
   "execution_count": 12,
   "id": "b2e9eced",
   "metadata": {},
   "outputs": [],
   "source": [
    "def fitness(ind):\n",
    "#     print(\"=======start=======\")\n",
    "# ind = [0, 1, 2]\n",
    "    \n",
    "    # initialize cars\n",
    "    # Car definition: [X, Y, Step, Value] \n",
    "    cars = []\n",
    "    for i in range(0, number_of_cars, 1):\n",
    "        cars.append([0] * 4)   \n",
    "\n",
    "#     print(cars)\n",
    "    # keeps track of what ride are we \n",
    "    counter = 0\n",
    "\n",
    "    for ride in rides:\n",
    "#         print(ride)\n",
    "#         print(ind)\n",
    "        # choosing car for a ride from individual\n",
    "    \n",
    "        car = cars[ind[counter]]\n",
    "#         print(ind[counter])\n",
    "\n",
    "        # position of the car\n",
    "        car_pos = [car[0], car[1]]\n",
    "#         print(\"car_pos=\", car_pos)\n",
    "\n",
    "        # starting position of ride\n",
    "        cord_start = [ride[0], ride[1]]\n",
    "#         print(\"cord_start=\", cord_start)\n",
    "\n",
    "        # ending position of ride\n",
    "        cord_end = [ride[2], ride[3]]\n",
    "#         print(\"cord_end=\", cord_end)\n",
    "\n",
    "        # calculate distance between car and starting position\n",
    "        dist_to_start = manhattan_distance(car_pos, cord_start)\n",
    "#         print(\"dist_to_start=\", dist_to_start)\n",
    "\n",
    "        # adding distance needed to go to starting point to steps\n",
    "        car[2] += dist_to_start\n",
    "\n",
    "        # if car is on time or earlier add bonus\n",
    "        if(car[2] <= ride[4]):\n",
    "            car[3] += bonus\n",
    "\n",
    "        # if car is earlier set to starting time\n",
    "        if(car[2] < ride[4]):\n",
    "#             print(\"car wait for step: \", ride[4])\n",
    "            car[2] = ride[4]\n",
    "\n",
    "        # calculate distance between starting point of the trip and \n",
    "        dist_trip = manhattan_distance(cord_start, cord_end)\n",
    "#         print(\"dist_trip=\", dist_trip)\n",
    "\n",
    "        # add distance of the trip to steps\n",
    "        car[2] += dist_trip\n",
    "\n",
    "        # if steps needed to complete ride are less or equal to \n",
    "        # finish of ride add points\n",
    "#         print(\"car accomplised ride in step: \", car[2])\n",
    "#         print(\"ride was supose to end: \", ride[5])\n",
    "        if(ride[5] > car[2]):\n",
    "#             print(\"success\")\n",
    "            car[3] += dist_trip\n",
    "\n",
    "        # set coordinates of the ending to the actual position\n",
    "        # of the car\n",
    "        car[0] = cord_end[0]\n",
    "        car[1] = cord_end[1]\n",
    "\n",
    "        cars[ind[counter]] = car\n",
    "#         print(car)\n",
    "        counter += 1\n",
    "#         print(\"===CARS===\")\n",
    "#         print(cars)\n",
    "#         print(\"==================\")\n",
    "    \n",
    "    value = 0\n",
    "    for car in cars:\n",
    "        value += car[3]\n",
    "#     print(\"value=\", value)\n",
    "#     print(cars)\n",
    "    return (value, )\n"
   ]
  },
  {
   "cell_type": "code",
   "execution_count": 13,
   "id": "e8b70e17",
   "metadata": {},
   "outputs": [],
   "source": [
    "# fitness([0, 1, 1, 0])"
   ]
  },
  {
   "cell_type": "markdown",
   "id": "04682e78",
   "metadata": {},
   "source": [
    "### Configure Genetic algorithms parameters"
   ]
  },
  {
   "cell_type": "code",
   "execution_count": 14,
   "id": "baf51682",
   "metadata": {},
   "outputs": [],
   "source": [
    "# we can experiment with different parameters \n",
    "toolbox.register(\"select\", tools.selTournament, tournsize=3) # selections\n",
    "toolbox.register(\"mate\", tools.cxOnePoint)                   # crossing\n",
    "toolbox.register(\"mutate\", tools.mutUniformInt, low=0, up=number_of_cars-1, indpb=0.2)      # mutation\n",
    "\n",
    "# define how each individual will be evaluated\n",
    "# fitness function defined above will be used \n",
    "toolbox.register(\"evaluate\", fitness)"
   ]
  },
  {
   "cell_type": "markdown",
   "id": "dd7d77de",
   "metadata": {},
   "source": [
    "### Statistic configuration "
   ]
  },
  {
   "cell_type": "code",
   "execution_count": 15,
   "id": "8f3a10f9",
   "metadata": {},
   "outputs": [],
   "source": [
    "stats = tools.Statistics(lambda ind: ind.fitness.values) \n",
    "stats.register(\"avg\", np.mean) \n",
    "stats.register(\"std\", np.std) \n",
    "stats.register(\"min\", np.min) \n",
    "stats.register(\"max\", np.max) "
   ]
  },
  {
   "cell_type": "markdown",
   "id": "0f108ae6",
   "metadata": {},
   "source": [
    "### Execution of the Algorithm"
   ]
  },
  {
   "cell_type": "code",
   "execution_count": 16,
   "id": "f309e8d1",
   "metadata": {},
   "outputs": [
    {
     "name": "stdout",
     "output_type": "stream",
     "text": [
      "Results: \n",
      "gen\tnevals\tavg    \tstd    \tmin   \tmax   \n",
      "0  \t30    \t94740.3\t3189.72\t89655 \t100973\n",
      "1  \t26    \t96323.4\t3986.53\t84625 \t101564\n",
      "2  \t22    \t98545.9\t3959.08\t88703 \t106645\n",
      "3  \t24    \t100781 \t3974.98\t90298 \t106645\n",
      "4  \t22    \t102003 \t3064.07\t95169 \t107655\n",
      "5  \t25    \t101944 \t3647.59\t94305 \t107726\n",
      "6  \t22    \t103630 \t3273.86\t96350 \t111444\n",
      "7  \t25    \t104753 \t3426.78\t95216 \t111444\n",
      "8  \t26    \t105791 \t3345.04\t95822 \t111477\n",
      "9  \t25    \t106698 \t2605.07\t98727 \t111444\n",
      "10 \t23    \t106704 \t4417.04\t97153 \t111933\n",
      "11 \t26    \t108738 \t3432.64\t100125\t111933\n",
      "12 \t27    \t108926 \t3663.31\t97612 \t111444\n",
      "13 \t24    \t109141 \t3958.23\t98967 \t112131\n",
      "14 \t20    \t110068 \t2935.6 \t101188\t112131\n",
      "15 \t26    \t111361 \t1764.48\t103373\t112131\n",
      "16 \t24    \t110001 \t3839.04\t101311\t114379\n",
      "17 \t24    \t110590 \t3458.32\t99668 \t115243\n",
      "18 \t25    \t110216 \t4889.31\t94234 \t115243\n",
      "19 \t22    \t110553 \t5211.31\t96626 \t115766\n",
      "20 \t26    \t112588 \t4093.97\t102112\t117048\n",
      "21 \t25    \t112052 \t5002.52\t100693\t118545\n",
      "22 \t22    \t113654 \t3847.35\t100564\t118545\n",
      "23 \t22    \t112921 \t5084.42\t98499 \t117958\n",
      "24 \t26    \t114852 \t3900.01\t102422\t117958\n",
      "25 \t18    \t115983 \t3071.36\t105319\t117958\n",
      "26 \t19    \t115949 \t3839.95\t105806\t117958\n",
      "27 \t17    \t116110 \t4479.52\t99697 \t117958\n",
      "28 \t17    \t116809 \t2687.13\t109032\t117958\n",
      "29 \t22    \t116178 \t4032.03\t102489\t117958\n",
      "30 \t24    \t115441 \t4709.69\t103903\t117958\n",
      "31 \t26    \t116876 \t2868.35\t107785\t117958\n",
      "32 \t23    \t116562 \t3489.87\t102269\t117958\n",
      "33 \t22    \t114988 \t4727.91\t102036\t117958\n",
      "34 \t20    \t116863 \t2993.84\t105567\t117958\n",
      "35 \t25    \t116012 \t4005.23\t104516\t117958\n",
      "36 \t25    \t114971 \t5049.27\t103467\t117958\n",
      "37 \t23    \t116006 \t4059.18\t105562\t117958\n",
      "38 \t22    \t115975 \t3792.76\t104202\t117958\n",
      "39 \t22    \t115539 \t4333.12\t104374\t117958\n",
      "40 \t20    \t115961 \t4589.09\t101999\t117958\n",
      "41 \t23    \t117130 \t3098.22\t105536\t117958\n",
      "42 \t19    \t116849 \t2745.2 \t107172\t117958\n",
      "43 \t27    \t115838 \t3840.89\t103630\t117958\n",
      "44 \t22    \t115588 \t4833.51\t102084\t117958\n",
      "45 \t23    \t116670 \t2778.93\t107884\t117958\n",
      "46 \t21    \t115964 \t4137.94\t103888\t117958\n",
      "47 \t28    \t115555 \t4288.1 \t103536\t117958\n",
      "48 \t24    \t116148 \t3318.21\t105156\t117958\n",
      "49 \t20    \t116333 \t4246.73\t103233\t117958\n",
      "50 \t22    \t114348 \t6129.11\t99289 \t117958\n",
      "Best Solution: \n",
      "[17, 16, 99, 21, 2, 86, 55, 89, 41, 87, 98, 54, 67, 45, 68, 39, 18, 0, 31, 43, 26, 90, 59, 54, 1, 14, 48, 94, 53, 76, 14, 59, 92, 66, 65, 18, 95, 17, 9, 77, 95, 76, 30, 90, 96, 99, 0, 52, 93, 6, 45, 15, 52, 92, 19, 70, 17, 6, 59, 58, 73, 1, 56, 45, 77, 75, 62, 38, 31, 6, 26, 1, 23, 61, 82, 37, 17, 22, 78, 52, 77, 7, 87, 19, 95, 90, 55, 64, 71, 31, 36, 55, 26, 15, 76, 94, 9, 61, 23, 10, 11, 21, 48, 96, 7, 40, 12, 76, 71, 97, 70, 81, 46, 43, 92, 90, 47, 60, 6, 43, 82, 73, 91, 18, 14, 14, 29, 4, 34, 13, 60, 68, 11, 43, 31, 95, 56, 57, 28, 89, 15, 96, 11, 37, 4, 97, 62, 8, 45, 45, 55, 48, 75, 57, 9, 95, 94, 58, 62, 74, 5, 27, 80, 97, 8, 45, 21, 55, 74, 98, 9, 48, 11, 29, 63, 91, 76, 56, 64, 33, 35, 31, 92, 77, 60, 9, 74, 55, 39, 89, 40, 84, 48, 92, 74, 54, 23, 73, 79, 94, 13, 35, 47, 3, 60, 4, 3, 68, 47, 86, 38, 17, 85, 34, 49, 36, 98, 0, 70, 99, 85, 3, 67, 46, 71, 50, 88, 94, 14, 39, 93, 22, 24, 30, 21, 19, 32, 33, 19, 88, 62, 2, 28, 40, 12, 25, 77, 89, 54, 64, 69, 61, 86, 97, 20, 39, 54, 5, 44, 43, 42, 6, 28, 2, 3, 24, 19, 53, 60, 3, 46, 13, 36, 74, 64, 49, 91, 7, 51, 20, 45, 62, 71, 10, 29, 75, 0, 32, 50, 33, 16, 69, 56, 38, 98, 21, 83, 7, 88, 89]\n"
     ]
    }
   ],
   "source": [
    "# The population is initialised with X individuals.\n",
    "population = toolbox.population(n=30)\n",
    "# print(population)\n",
    "\n",
    "# The algorithm that allows the evolution of the solutions is called\n",
    "population, logbook = algorithms.eaSimple(population, toolbox, \n",
    "                                    cxpb=0.7, mutpb=0.2, # Probabilidades de cruce y mutacion\n",
    "                                    ngen=20, verbose=False, stats=stats) # Numero de generaciones a completar y estadisticas a recoger\n",
    "\n",
    "# For each generation, the logbook structure stores a summary of the algorithm's progress.\n",
    "print(\"Results: \")\n",
    "print(logbook)\n",
    "\n",
    "print(\"Best Solution: \")\n",
    "print(tools.selBest(population,1)[0])"
   ]
  },
  {
   "cell_type": "code",
   "execution_count": 17,
   "id": "62d67c1b",
   "metadata": {
    "scrolled": true
   },
   "outputs": [
    {
     "data": {
      "text/plain": [
       "[]"
      ]
     },
     "execution_count": 17,
     "metadata": {},
     "output_type": "execute_result"
    },
    {
     "data": {
      "image/png": "[encoded data removed]",
      "text/plain": [
       "<Figure size 432x288 with 1 Axes>"
      ]
     },
     "metadata": {
      "needs_background": "light"
     },
     "output_type": "display_data"
    }
   ],
   "source": [
    "# Se recuperan los datos desde el log\n",
    "gen = logbook.select(\"gen\")\n",
    "avgs = logbook.select(\"avg\")\n",
    "    \n",
    "# Se establece una figura para dibujar\n",
    "fig = plt.figure()\n",
    "    \n",
    "# Se representa la media del valor de fitness por cada generación\n",
    "ax1 = plt.gca()\n",
    "line1 = ax1.plot(gen, avgs, \"r-\", label=\"Average Fitness\")    \n",
    "ax1.set_xlabel(\"Generation\")\n",
    "ax1.set_ylabel(\"Fitness\", color=\"b\")\n",
    "\n",
    "'''Note that additional information should be represented. For example, \n",
    "the maximum and minimum of that fitness are being collected in the statistics, \n",
    "although in the example they are not represented'''\n",
    "\n",
    "plt.plot()"
   ]
  },
  {
   "cell_type": "code",
   "execution_count": null,
   "id": "028ab1a6",
   "metadata": {},
   "outputs": [],
   "source": []
  }
 ],
 "metadata": {
  "kernelspec": {
   "display_name": "Python 3",
   "language": "python",
   "name": "python3"
  },
  "language_info": {
   "codemirror_mode": {
    "name": "ipython",
    "version": 3
   },
   "file_extension": ".py",
   "mimetype": "text/x-python",
   "name": "python",
   "nbconvert_exporter": "python",
   "pygments_lexer": "ipython3",
   "version": "3.8.8"
  }
 },
 "nbformat": 4,
 "nbformat_minor": 5
}
